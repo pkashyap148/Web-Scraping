{
 "cells": [
  {
   "cell_type": "markdown",
   "id": "quiet-finish",
   "metadata": {},
   "source": [
    "## 2020 Standings F1"
   ]
  },
  {
   "cell_type": "code",
   "execution_count": 1,
   "id": "private-webcam",
   "metadata": {},
   "outputs": [],
   "source": [
    "import requests\n",
    "from bs4 import BeautifulSoup as bs"
   ]
  },
  {
   "cell_type": "code",
   "execution_count": 2,
   "id": "younger-monitoring",
   "metadata": {},
   "outputs": [],
   "source": [
    "r = requests.get('https://www.espn.in/f1/table/_/season/2020')"
   ]
  },
  {
   "cell_type": "code",
   "execution_count": 3,
   "id": "incoming-repository",
   "metadata": {},
   "outputs": [],
   "source": [
    "s = bs(r.content)"
   ]
  },
  {
   "cell_type": "code",
   "execution_count": null,
   "id": "potential-virtue",
   "metadata": {},
   "outputs": [],
   "source": []
  },
  {
   "cell_type": "code",
   "execution_count": 22,
   "id": "wrong-education",
   "metadata": {},
   "outputs": [
    {
     "data": {
      "text/plain": [
       "[<span class=\"hide-mobile\">Lewis Hamilton</span>,\n",
       " <span class=\"hide-mobile\">Valtteri Bottas</span>,\n",
       " <span class=\"hide-mobile\">Max Verstappen</span>,\n",
       " <span class=\"hide-mobile\">Sergio Perez</span>,\n",
       " <span class=\"hide-mobile\">Daniel Ricciardo</span>,\n",
       " <span class=\"hide-mobile\">Carlos Sainz Jr</span>,\n",
       " <span class=\"hide-mobile\">Alexander Albon</span>,\n",
       " <span class=\"hide-mobile\">Charles Leclerc</span>,\n",
       " <span class=\"hide-mobile\">Lando Norris</span>,\n",
       " <span class=\"hide-mobile\">Pierre Gasly</span>,\n",
       " <span class=\"hide-mobile\">Lance Stroll</span>,\n",
       " <span class=\"hide-mobile\">Esteban Ocon</span>,\n",
       " <span class=\"hide-mobile\">Sebastian Vettel</span>,\n",
       " <span class=\"hide-mobile\">Daniil Kvyat</span>,\n",
       " <span class=\"hide-mobile\">Nico Hulkenberg</span>,\n",
       " <span class=\"hide-mobile\">Kimi Raikkonen</span>,\n",
       " <span class=\"hide-mobile\">Antonio Giovinazzi</span>,\n",
       " <span class=\"hide-mobile\">George Russell</span>,\n",
       " <span class=\"hide-mobile\">Romain Grosjean</span>,\n",
       " <span class=\"hide-mobile\">Kevin Magnussen</span>,\n",
       " <span class=\"hide-mobile\">Nicholas Latifi</span>,\n",
       " <span class=\"hide-mobile\">Jack Aitken</span>,\n",
       " <span class=\"hide-mobile\">Pietro Fittipaldi</span>]"
      ]
     },
     "execution_count": 22,
     "metadata": {},
     "output_type": "execute_result"
    }
   ],
   "source": [
    "body = s.select('div.standings__table div.ResponsiveTable div.flex table.Table tbody.Table__TBODY tr td div.team-link span.hide-mobile')\n",
    "body\n"
   ]
  },
  {
   "cell_type": "code",
   "execution_count": 25,
   "id": "empirical-handling",
   "metadata": {},
   "outputs": [
    {
     "data": {
      "text/plain": [
       "['Lewis Hamilton',\n",
       " 'Valtteri Bottas',\n",
       " 'Max Verstappen',\n",
       " 'Sergio Perez',\n",
       " 'Daniel Ricciardo',\n",
       " 'Carlos Sainz Jr',\n",
       " 'Alexander Albon',\n",
       " 'Charles Leclerc',\n",
       " 'Lando Norris',\n",
       " 'Pierre Gasly',\n",
       " 'Lance Stroll',\n",
       " 'Esteban Ocon',\n",
       " 'Sebastian Vettel',\n",
       " 'Daniil Kvyat',\n",
       " 'Nico Hulkenberg',\n",
       " 'Kimi Raikkonen',\n",
       " 'Antonio Giovinazzi',\n",
       " 'George Russell',\n",
       " 'Romain Grosjean',\n",
       " 'Kevin Magnussen',\n",
       " 'Nicholas Latifi',\n",
       " 'Jack Aitken',\n",
       " 'Pietro Fittipaldi']"
      ]
     },
     "execution_count": 25,
     "metadata": {},
     "output_type": "execute_result"
    }
   ],
   "source": [
    "drivers = []\n",
    "for name in body:\n",
    "    drivers.append(name.string)\n",
    "drivers"
   ]
  },
  {
   "cell_type": "code",
   "execution_count": 32,
   "id": "modern-equity",
   "metadata": {},
   "outputs": [
    {
     "data": {
      "text/plain": [
       "[<span class=\"stat-cell\">347</span>,\n",
       " <span class=\"stat-cell\">223</span>,\n",
       " <span class=\"stat-cell\">214</span>,\n",
       " <span class=\"stat-cell\">125</span>,\n",
       " <span class=\"stat-cell\">119</span>,\n",
       " <span class=\"stat-cell\">105</span>,\n",
       " <span class=\"stat-cell\">105</span>,\n",
       " <span class=\"stat-cell\">98</span>,\n",
       " <span class=\"stat-cell\">97</span>,\n",
       " <span class=\"stat-cell\">75</span>,\n",
       " <span class=\"stat-cell\">75</span>,\n",
       " <span class=\"stat-cell\">62</span>,\n",
       " <span class=\"stat-cell\">33</span>,\n",
       " <span class=\"stat-cell\">32</span>,\n",
       " <span class=\"stat-cell\">10</span>,\n",
       " <span class=\"stat-cell\">4</span>,\n",
       " <span class=\"stat-cell\">4</span>,\n",
       " <span class=\"stat-cell\">3</span>,\n",
       " <span class=\"stat-cell\">2</span>,\n",
       " <span class=\"stat-cell\">1</span>,\n",
       " <span class=\"stat-cell\">0</span>,\n",
       " <span class=\"stat-cell\">0</span>,\n",
       " <span class=\"stat-cell\">0</span>]"
      ]
     },
     "execution_count": 32,
     "metadata": {},
     "output_type": "execute_result"
    }
   ],
   "source": [
    "pts = s.select('div.standings__table div.ResponsiveTable div.flex table.Table tbody.Table__TBODY tr td.Table__TD span.stat-cell')\n",
    "final_pts = pts[0:23]\n",
    "final_pts"
   ]
  },
  {
   "cell_type": "code",
   "execution_count": 33,
   "id": "altered-easter",
   "metadata": {},
   "outputs": [
    {
     "data": {
      "text/plain": [
       "['347',\n",
       " '223',\n",
       " '214',\n",
       " '125',\n",
       " '119',\n",
       " '105',\n",
       " '105',\n",
       " '98',\n",
       " '97',\n",
       " '75',\n",
       " '75',\n",
       " '62',\n",
       " '33',\n",
       " '32',\n",
       " '10',\n",
       " '4',\n",
       " '4',\n",
       " '3',\n",
       " '2',\n",
       " '1',\n",
       " '0',\n",
       " '0',\n",
       " '0']"
      ]
     },
     "execution_count": 33,
     "metadata": {},
     "output_type": "execute_result"
    }
   ],
   "source": [
    "points = []\n",
    "for pts in final_pts:\n",
    "    points.append(pts.string)\n",
    "points"
   ]
  },
  {
   "cell_type": "code",
   "execution_count": 37,
   "id": "former-brooks",
   "metadata": {},
   "outputs": [
    {
     "data": {
      "text/plain": [
       "23"
      ]
     },
     "execution_count": 37,
     "metadata": {},
     "output_type": "execute_result"
    }
   ],
   "source": []
  },
  {
   "cell_type": "code",
   "execution_count": 41,
   "id": "imported-interface",
   "metadata": {},
   "outputs": [],
   "source": [
    "with open(\"players.txt\",'a') as obj:\n",
    "    for i in range(23):\n",
    "        obj.write(drivers[i]+\" => \"+points[i]+\"\\n\")"
   ]
  },
  {
   "cell_type": "code",
   "execution_count": 43,
   "id": "loving-subscriber",
   "metadata": {},
   "outputs": [
    {
     "name": "stdout",
     "output_type": "stream",
     "text": [
      "Lewis Hamilton => 347\n",
      "Valtteri Bottas => 223\n",
      "Max Verstappen => 214\n",
      "Sergio Perez => 125\n",
      "Daniel Ricciardo => 119\n",
      "Carlos Sainz Jr => 105\n",
      "Alexander Albon => 105\n",
      "Charles Leclerc => 98\n",
      "Lando Norris => 97\n",
      "Pierre Gasly => 75\n",
      "Lance Stroll => 75\n",
      "Esteban Ocon => 62\n",
      "Sebastian Vettel => 33\n",
      "Daniil Kvyat => 32\n",
      "Nico Hulkenberg => 10\n",
      "Kimi Raikkonen => 4\n",
      "Antonio Giovinazzi => 4\n",
      "George Russell => 3\n",
      "Romain Grosjean => 2\n",
      "Kevin Magnussen => 1\n",
      "Nicholas Latifi => 0\n",
      "Jack Aitken => 0\n",
      "Pietro Fittipaldi => 0\n",
      "\n"
     ]
    }
   ],
   "source": [
    "with open(\"players.txt\", 'r') as obj:\n",
    "    print(obj.read())"
   ]
  },
  {
   "cell_type": "code",
   "execution_count": null,
   "id": "cubic-mills",
   "metadata": {},
   "outputs": [],
   "source": []
  },
  {
   "cell_type": "code",
   "execution_count": null,
   "id": "colored-activation",
   "metadata": {},
   "outputs": [],
   "source": []
  },
  {
   "cell_type": "code",
   "execution_count": null,
   "id": "mineral-greensboro",
   "metadata": {},
   "outputs": [],
   "source": []
  }
 ],
 "metadata": {
  "kernelspec": {
   "display_name": "Python 3",
   "language": "python",
   "name": "python3"
  },
  "language_info": {
   "codemirror_mode": {
    "name": "ipython",
    "version": 3
   },
   "file_extension": ".py",
   "mimetype": "text/x-python",
   "name": "python",
   "nbconvert_exporter": "python",
   "pygments_lexer": "ipython3",
   "version": "3.8.8"
  }
 },
 "nbformat": 4,
 "nbformat_minor": 5
}
